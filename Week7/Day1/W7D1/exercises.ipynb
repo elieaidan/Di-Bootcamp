{
 "cells": [
  {
   "cell_type": "code",
   "execution_count": 1,
   "id": "b84ba78f",
   "metadata": {},
   "outputs": [],
   "source": [
    "import numpy as np"
   ]
  },
  {
   "cell_type": "markdown",
   "id": "8ceae53d",
   "metadata": {},
   "source": [
    "Create a function which takes that numpy 1-D array as input and returns the following (in the same order as listed):\n",
    "\n",
    "* The minimum value in the array * The standard deviation of the data * The product of the elements in the array * Dot product of the array to itself * An array with 4 subtracted from every element in the input array"
   ]
  },
  {
   "cell_type": "code",
   "execution_count": 3,
   "id": "9ee6cc9a",
   "metadata": {},
   "outputs": [
    {
     "data": {
      "text/plain": [
       "array([ 5,  6,  7,  8,  9, 10])"
      ]
     },
     "execution_count": 3,
     "metadata": {},
     "output_type": "execute_result"
    }
   ],
   "source": [
    "one_dim_arr = np.arange(5,11)\n",
    "one_dim_arr"
   ]
  },
  {
   "cell_type": "code",
   "execution_count": 9,
   "id": "14b7a137",
   "metadata": {},
   "outputs": [],
   "source": [
    "def stats(arr: np.array) -> None:\n",
    "    min_val = np.amin(one_dim_arr)\n",
    "    std_val = np.std(one_dim_arr)\n",
    "    prod_val = np.prod(one_dim_arr)\n",
    "    dot_val = np.dot(one_dim_arr, one_dim_arr)\n",
    "    min_4 = one_dim_arr - 4\n",
    "    print(min_val, std_val, prod_val, dot_val, min_4)"
   ]
  },
  {
   "cell_type": "code",
   "execution_count": 10,
   "id": "e19b3fdc",
   "metadata": {},
   "outputs": [
    {
     "name": "stdout",
     "output_type": "stream",
     "text": [
      "5 1.707825127659933 151200 355 [1 2 3 4 5 6]\n"
     ]
    }
   ],
   "source": [
    "stats(one_dim_arr)"
   ]
  },
  {
   "cell_type": "markdown",
   "id": "860ca312",
   "metadata": {},
   "source": [
    "### XP1"
   ]
  },
  {
   "cell_type": "markdown",
   "id": "c4b54cbe",
   "metadata": {},
   "source": [
    "Write a function to create a numpy array using only the input: start, length, and step.\n",
    "Use the function to create an numpy array of length 100, starting from 6 and has a step of 4 between consecutive numbers"
   ]
  },
  {
   "cell_type": "code",
   "execution_count": 19,
   "id": "569dcb64",
   "metadata": {},
   "outputs": [],
   "source": [
    "def create_array(start: int, length: int, step: int) -> np.array:\n",
    "    new_length = (length + 1) * step\n",
    "    array = np.arange(start, new_length, step)\n",
    "    return array"
   ]
  },
  {
   "cell_type": "code",
   "execution_count": 20,
   "id": "1b0c480b",
   "metadata": {},
   "outputs": [],
   "source": [
    "result = create_array(6, 100, 4)"
   ]
  },
  {
   "cell_type": "code",
   "execution_count": 21,
   "id": "f5afb6c0",
   "metadata": {},
   "outputs": [
    {
     "data": {
      "text/plain": [
       "(100,)"
      ]
     },
     "execution_count": 21,
     "metadata": {},
     "output_type": "execute_result"
    }
   ],
   "source": [
    "result.shape"
   ]
  },
  {
   "cell_type": "markdown",
   "id": "b767765f",
   "metadata": {},
   "source": [
    "### XP2\n"
   ]
  },
  {
   "cell_type": "code",
   "execution_count": 34,
   "id": "9644c09f",
   "metadata": {},
   "outputs": [],
   "source": [
    "a = np.array([1,2,3,np.nan,5,6,7,np.nan])"
   ]
  },
  {
   "cell_type": "code",
   "execution_count": 37,
   "id": "521e7d3d",
   "metadata": {},
   "outputs": [
    {
     "data": {
      "text/plain": [
       "array([ 1.,  2.,  3., nan,  5.,  6.,  7., nan])"
      ]
     },
     "execution_count": 37,
     "metadata": {},
     "output_type": "execute_result"
    }
   ],
   "source": [
    "a"
   ]
  },
  {
   "cell_type": "code",
   "execution_count": 30,
   "id": "28c1d0c2",
   "metadata": {},
   "outputs": [],
   "source": [
    "nan_val = np.nan"
   ]
  },
  {
   "cell_type": "code",
   "execution_count": 35,
   "id": "564bedf7",
   "metadata": {},
   "outputs": [
    {
     "data": {
      "text/plain": [
       "array([False, False, False,  True, False, False, False,  True])"
      ]
     },
     "execution_count": 35,
     "metadata": {},
     "output_type": "execute_result"
    }
   ],
   "source": [
    "np.isnan(a)"
   ]
  },
  {
   "cell_type": "code",
   "execution_count": 41,
   "id": "b6c93ba8",
   "metadata": {},
   "outputs": [
    {
     "data": {
      "text/plain": [
       "array([1., 2., 3., 5., 6., 7.])"
      ]
     },
     "execution_count": 41,
     "metadata": {},
     "output_type": "execute_result"
    }
   ],
   "source": [
    "a[np.isnan(a) == False]"
   ]
  },
  {
   "cell_type": "code",
   "execution_count": null,
   "id": "0a5ba8a7",
   "metadata": {},
   "outputs": [],
   "source": []
  }
 ],
 "metadata": {
  "kernelspec": {
   "display_name": "Python 3 (ipykernel)",
   "language": "python",
   "name": "python3"
  },
  "language_info": {
   "codemirror_mode": {
    "name": "ipython",
    "version": 3
   },
   "file_extension": ".py",
   "mimetype": "text/x-python",
   "name": "python",
   "nbconvert_exporter": "python",
   "pygments_lexer": "ipython3",
   "version": "3.9.12"
  }
 },
 "nbformat": 4,
 "nbformat_minor": 5
}
