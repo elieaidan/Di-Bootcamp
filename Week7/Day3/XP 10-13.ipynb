{
 "cells": [
  {
   "cell_type": "code",
   "execution_count": 3,
   "id": "fa5fb575",
   "metadata": {},
   "outputs": [],
   "source": [
    "import pandas as pd\n",
    "\n",
    "\n",
    "df = pd.DataFrame([\"STD,City\\tState\",\n",
    "\"33,Kolkata\\tWest Bengal\",\n",
    "\"44,Chennai\\tTamil Nadu\",\n",
    "\"40,Hyderabad\\tTelengana\",\n",
    "\"80,Bangalore\\tKarnataka\"], columns=['row'])"
   ]
  },
  {
   "cell_type": "code",
   "execution_count": 4,
   "id": "89945d46",
   "metadata": {},
   "outputs": [],
   "source": [
    "df[['STD','City']]=df.row.str.split(',', expand=True)"
   ]
  },
  {
   "cell_type": "code",
   "execution_count": 5,
   "id": "e1c558a8",
   "metadata": {},
   "outputs": [
    {
     "data": {
      "text/html": [
       "<div>\n",
       "<style scoped>\n",
       "    .dataframe tbody tr th:only-of-type {\n",
       "        vertical-align: middle;\n",
       "    }\n",
       "\n",
       "    .dataframe tbody tr th {\n",
       "        vertical-align: top;\n",
       "    }\n",
       "\n",
       "    .dataframe thead th {\n",
       "        text-align: right;\n",
       "    }\n",
       "</style>\n",
       "<table border=\"1\" class=\"dataframe\">\n",
       "  <thead>\n",
       "    <tr style=\"text-align: right;\">\n",
       "      <th></th>\n",
       "      <th>row</th>\n",
       "      <th>STD</th>\n",
       "      <th>City</th>\n",
       "    </tr>\n",
       "  </thead>\n",
       "  <tbody>\n",
       "    <tr>\n",
       "      <th>0</th>\n",
       "      <td>STD,City\\tState</td>\n",
       "      <td>STD</td>\n",
       "      <td>City\\tState</td>\n",
       "    </tr>\n",
       "    <tr>\n",
       "      <th>1</th>\n",
       "      <td>33,Kolkata\\tWest Bengal</td>\n",
       "      <td>33</td>\n",
       "      <td>Kolkata\\tWest Bengal</td>\n",
       "    </tr>\n",
       "    <tr>\n",
       "      <th>2</th>\n",
       "      <td>44,Chennai\\tTamil Nadu</td>\n",
       "      <td>44</td>\n",
       "      <td>Chennai\\tTamil Nadu</td>\n",
       "    </tr>\n",
       "    <tr>\n",
       "      <th>3</th>\n",
       "      <td>40,Hyderabad\\tTelengana</td>\n",
       "      <td>40</td>\n",
       "      <td>Hyderabad\\tTelengana</td>\n",
       "    </tr>\n",
       "    <tr>\n",
       "      <th>4</th>\n",
       "      <td>80,Bangalore\\tKarnataka</td>\n",
       "      <td>80</td>\n",
       "      <td>Bangalore\\tKarnataka</td>\n",
       "    </tr>\n",
       "  </tbody>\n",
       "</table>\n",
       "</div>"
      ],
      "text/plain": [
       "                       row  STD                  City\n",
       "0          STD,City\\tState  STD           City\\tState\n",
       "1  33,Kolkata\\tWest Bengal   33  Kolkata\\tWest Bengal\n",
       "2   44,Chennai\\tTamil Nadu   44   Chennai\\tTamil Nadu\n",
       "3  40,Hyderabad\\tTelengana   40  Hyderabad\\tTelengana\n",
       "4  80,Bangalore\\tKarnataka   80  Bangalore\\tKarnataka"
      ]
     },
     "execution_count": 5,
     "metadata": {},
     "output_type": "execute_result"
    }
   ],
   "source": [
    "df"
   ]
  },
  {
   "cell_type": "code",
   "execution_count": 6,
   "id": "34c08492",
   "metadata": {},
   "outputs": [],
   "source": [
    "df[['City','State']]=df.City.str.split('\\t', expand=True)"
   ]
  },
  {
   "cell_type": "code",
   "execution_count": 7,
   "id": "4151ede3",
   "metadata": {},
   "outputs": [
    {
     "data": {
      "text/html": [
       "<div>\n",
       "<style scoped>\n",
       "    .dataframe tbody tr th:only-of-type {\n",
       "        vertical-align: middle;\n",
       "    }\n",
       "\n",
       "    .dataframe tbody tr th {\n",
       "        vertical-align: top;\n",
       "    }\n",
       "\n",
       "    .dataframe thead th {\n",
       "        text-align: right;\n",
       "    }\n",
       "</style>\n",
       "<table border=\"1\" class=\"dataframe\">\n",
       "  <thead>\n",
       "    <tr style=\"text-align: right;\">\n",
       "      <th></th>\n",
       "      <th>row</th>\n",
       "      <th>STD</th>\n",
       "      <th>City</th>\n",
       "      <th>State</th>\n",
       "    </tr>\n",
       "  </thead>\n",
       "  <tbody>\n",
       "    <tr>\n",
       "      <th>0</th>\n",
       "      <td>STD,City\\tState</td>\n",
       "      <td>STD</td>\n",
       "      <td>City</td>\n",
       "      <td>State</td>\n",
       "    </tr>\n",
       "    <tr>\n",
       "      <th>1</th>\n",
       "      <td>33,Kolkata\\tWest Bengal</td>\n",
       "      <td>33</td>\n",
       "      <td>Kolkata</td>\n",
       "      <td>West Bengal</td>\n",
       "    </tr>\n",
       "    <tr>\n",
       "      <th>2</th>\n",
       "      <td>44,Chennai\\tTamil Nadu</td>\n",
       "      <td>44</td>\n",
       "      <td>Chennai</td>\n",
       "      <td>Tamil Nadu</td>\n",
       "    </tr>\n",
       "    <tr>\n",
       "      <th>3</th>\n",
       "      <td>40,Hyderabad\\tTelengana</td>\n",
       "      <td>40</td>\n",
       "      <td>Hyderabad</td>\n",
       "      <td>Telengana</td>\n",
       "    </tr>\n",
       "    <tr>\n",
       "      <th>4</th>\n",
       "      <td>80,Bangalore\\tKarnataka</td>\n",
       "      <td>80</td>\n",
       "      <td>Bangalore</td>\n",
       "      <td>Karnataka</td>\n",
       "    </tr>\n",
       "  </tbody>\n",
       "</table>\n",
       "</div>"
      ],
      "text/plain": [
       "                       row  STD       City        State\n",
       "0          STD,City\\tState  STD       City        State\n",
       "1  33,Kolkata\\tWest Bengal   33    Kolkata  West Bengal\n",
       "2   44,Chennai\\tTamil Nadu   44    Chennai   Tamil Nadu\n",
       "3  40,Hyderabad\\tTelengana   40  Hyderabad    Telengana\n",
       "4  80,Bangalore\\tKarnataka   80  Bangalore    Karnataka"
      ]
     },
     "execution_count": 7,
     "metadata": {},
     "output_type": "execute_result"
    }
   ],
   "source": [
    "df"
   ]
  },
  {
   "cell_type": "code",
   "execution_count": 8,
   "id": "169fb85a",
   "metadata": {},
   "outputs": [],
   "source": [
    "del df['row']"
   ]
  },
  {
   "cell_type": "code",
   "execution_count": 9,
   "id": "da649b56",
   "metadata": {},
   "outputs": [
    {
     "data": {
      "text/html": [
       "<div>\n",
       "<style scoped>\n",
       "    .dataframe tbody tr th:only-of-type {\n",
       "        vertical-align: middle;\n",
       "    }\n",
       "\n",
       "    .dataframe tbody tr th {\n",
       "        vertical-align: top;\n",
       "    }\n",
       "\n",
       "    .dataframe thead th {\n",
       "        text-align: right;\n",
       "    }\n",
       "</style>\n",
       "<table border=\"1\" class=\"dataframe\">\n",
       "  <thead>\n",
       "    <tr style=\"text-align: right;\">\n",
       "      <th></th>\n",
       "      <th>STD</th>\n",
       "      <th>City</th>\n",
       "      <th>State</th>\n",
       "    </tr>\n",
       "  </thead>\n",
       "  <tbody>\n",
       "    <tr>\n",
       "      <th>0</th>\n",
       "      <td>STD</td>\n",
       "      <td>City</td>\n",
       "      <td>State</td>\n",
       "    </tr>\n",
       "    <tr>\n",
       "      <th>1</th>\n",
       "      <td>33</td>\n",
       "      <td>Kolkata</td>\n",
       "      <td>West Bengal</td>\n",
       "    </tr>\n",
       "    <tr>\n",
       "      <th>2</th>\n",
       "      <td>44</td>\n",
       "      <td>Chennai</td>\n",
       "      <td>Tamil Nadu</td>\n",
       "    </tr>\n",
       "    <tr>\n",
       "      <th>3</th>\n",
       "      <td>40</td>\n",
       "      <td>Hyderabad</td>\n",
       "      <td>Telengana</td>\n",
       "    </tr>\n",
       "    <tr>\n",
       "      <th>4</th>\n",
       "      <td>80</td>\n",
       "      <td>Bangalore</td>\n",
       "      <td>Karnataka</td>\n",
       "    </tr>\n",
       "  </tbody>\n",
       "</table>\n",
       "</div>"
      ],
      "text/plain": [
       "   STD       City        State\n",
       "0  STD       City        State\n",
       "1   33    Kolkata  West Bengal\n",
       "2   44    Chennai   Tamil Nadu\n",
       "3   40  Hyderabad    Telengana\n",
       "4   80  Bangalore    Karnataka"
      ]
     },
     "execution_count": 9,
     "metadata": {},
     "output_type": "execute_result"
    }
   ],
   "source": [
    "df"
   ]
  },
  {
   "cell_type": "code",
   "execution_count": null,
   "id": "cfc3df5c",
   "metadata": {},
   "outputs": [],
   "source": [
    "\n",
    "    "
   ]
  }
 ],
 "metadata": {
  "kernelspec": {
   "display_name": "Python 3 (ipykernel)",
   "language": "python",
   "name": "python3"
  },
  "language_info": {
   "codemirror_mode": {
    "name": "ipython",
    "version": 3
   },
   "file_extension": ".py",
   "mimetype": "text/x-python",
   "name": "python",
   "nbconvert_exporter": "python",
   "pygments_lexer": "ipython3",
   "version": "3.11.1"
  }
 },
 "nbformat": 4,
 "nbformat_minor": 5
}
